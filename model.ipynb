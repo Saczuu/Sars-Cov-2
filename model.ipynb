{
 "metadata": {
  "language_info": {
   "codemirror_mode": {
    "name": "ipython",
    "version": 3
   },
   "file_extension": ".py",
   "mimetype": "text/x-python",
   "name": "python",
   "nbconvert_exporter": "python",
   "pygments_lexer": "ipython3",
   "version": "3.8.5-final"
  },
  "orig_nbformat": 2,
  "kernelspec": {
   "name": "python3",
   "display_name": "Python 3.8.5 64-bit",
   "metadata": {
    "interpreter": {
     "hash": "082e9a3bcad0a290d0001e938aa60b99250c6c2ef33a923c00b70f9826caf4b7"
    }
   }
  }
 },
 "nbformat": 4,
 "nbformat_minor": 2,
 "cells": [
  {
   "cell_type": "code",
   "execution_count": 1,
   "metadata": {},
   "outputs": [],
   "source": [
    "import numpy as np\n",
    "import pandas as pd\n",
    "from tensorflow import keras\n",
    "from keras.models import Sequential\n",
    "from keras.layers import Dense\n",
    "from keras.layers import LSTM\n",
    "from keras.layers import Dropout\n",
    "from keras import metrics\n",
    "from sklearn.preprocessing import MinMaxScaler\n",
    "from sklearn.metrics import mean_squared_error\n",
    "from sklearn.model_selection import train_test_split\n",
    "import math\n"
   ]
  },
  {
   "source": [
    "## Load data"
   ],
   "cell_type": "markdown",
   "metadata": {}
  },
  {
   "cell_type": "code",
   "execution_count": 2,
   "metadata": {},
   "outputs": [
    {
     "output_type": "execute_result",
     "data": {
      "text/plain": [
       "            DayOfWeek Country  Tests  Confirmed  Confirmed1  Confirmed2  \\\n",
       "Date                                                                      \n",
       "2020-03-04  wednesday  Poland     92          1           0           0   \n",
       "2020-03-05   thursday  Poland    179          1           1           0   \n",
       "2020-03-06     friday  Poland      0          4           1           1   \n",
       "2020-03-07   saturday  Poland    299          0           4           1   \n",
       "2020-03-08     sunday  Poland    230          6           0           4   \n",
       "...               ...     ...    ...        ...         ...         ...   \n",
       "2020-11-13     friday  Poland  56084      24051       22683       25221   \n",
       "2020-11-14   saturday  Poland  46607      25571       24051       22683   \n",
       "2020-11-15     sunday  Poland  35105      21854       25571       24051   \n",
       "2020-11-16     monday  Poland  41983      20816       21854       25571   \n",
       "2020-11-17    tuesday  Poland  55729      19152       20816       21854   \n",
       "\n",
       "            Confirmed3  Confirmed4  Confirmed5  Confirmed6  Confirmed7  \\\n",
       "Date                                                                     \n",
       "2020-03-04           0           0           0           0           0   \n",
       "2020-03-05           0           0           0           0           0   \n",
       "2020-03-06           0           0           0           0           0   \n",
       "2020-03-07           1           0           0           0           0   \n",
       "2020-03-08           1           1           0           0           0   \n",
       "...                ...         ...         ...         ...         ...   \n",
       "2020-11-13       25454       21713       24785       27875       27086   \n",
       "2020-11-14       25221       25454       21713       24785       27875   \n",
       "2020-11-15       22683       25221       25454       21713       24785   \n",
       "2020-11-16       24051       22683       25221       25454       21713   \n",
       "2020-11-17       25571       24051       22683       25221       25454   \n",
       "\n",
       "            Recovered  Deaths  SchoolsAreClose  Lockdown  MasksObligatory  \n",
       "Date                                                                       \n",
       "2020-03-04          0       0                0         0                0  \n",
       "2020-03-05          0       0                0         0                0  \n",
       "2020-03-06          0       0                0         0                0  \n",
       "2020-03-07          0       0                0         0                0  \n",
       "2020-03-08          0       0                0         0                0  \n",
       "...               ...     ...              ...       ...              ...  \n",
       "2020-11-13     267580    9499                1         0                1  \n",
       "2020-11-14     282215   10045                1         0                1  \n",
       "2020-11-15     294783   10348                1         0                1  \n",
       "2020-11-16     306022   10491                1         0                1  \n",
       "2020-11-17     324282   10848                1         0                1  \n",
       "\n",
       "[259 rows x 16 columns]"
      ],
      "text/html": "<div>\n<style scoped>\n    .dataframe tbody tr th:only-of-type {\n        vertical-align: middle;\n    }\n\n    .dataframe tbody tr th {\n        vertical-align: top;\n    }\n\n    .dataframe thead th {\n        text-align: right;\n    }\n</style>\n<table border=\"1\" class=\"dataframe\">\n  <thead>\n    <tr style=\"text-align: right;\">\n      <th></th>\n      <th>DayOfWeek</th>\n      <th>Country</th>\n      <th>Tests</th>\n      <th>Confirmed</th>\n      <th>Confirmed1</th>\n      <th>Confirmed2</th>\n      <th>Confirmed3</th>\n      <th>Confirmed4</th>\n      <th>Confirmed5</th>\n      <th>Confirmed6</th>\n      <th>Confirmed7</th>\n      <th>Recovered</th>\n      <th>Deaths</th>\n      <th>SchoolsAreClose</th>\n      <th>Lockdown</th>\n      <th>MasksObligatory</th>\n    </tr>\n    <tr>\n      <th>Date</th>\n      <th></th>\n      <th></th>\n      <th></th>\n      <th></th>\n      <th></th>\n      <th></th>\n      <th></th>\n      <th></th>\n      <th></th>\n      <th></th>\n      <th></th>\n      <th></th>\n      <th></th>\n      <th></th>\n      <th></th>\n      <th></th>\n    </tr>\n  </thead>\n  <tbody>\n    <tr>\n      <th>2020-03-04</th>\n      <td>wednesday</td>\n      <td>Poland</td>\n      <td>92</td>\n      <td>1</td>\n      <td>0</td>\n      <td>0</td>\n      <td>0</td>\n      <td>0</td>\n      <td>0</td>\n      <td>0</td>\n      <td>0</td>\n      <td>0</td>\n      <td>0</td>\n      <td>0</td>\n      <td>0</td>\n      <td>0</td>\n    </tr>\n    <tr>\n      <th>2020-03-05</th>\n      <td>thursday</td>\n      <td>Poland</td>\n      <td>179</td>\n      <td>1</td>\n      <td>1</td>\n      <td>0</td>\n      <td>0</td>\n      <td>0</td>\n      <td>0</td>\n      <td>0</td>\n      <td>0</td>\n      <td>0</td>\n      <td>0</td>\n      <td>0</td>\n      <td>0</td>\n      <td>0</td>\n    </tr>\n    <tr>\n      <th>2020-03-06</th>\n      <td>friday</td>\n      <td>Poland</td>\n      <td>0</td>\n      <td>4</td>\n      <td>1</td>\n      <td>1</td>\n      <td>0</td>\n      <td>0</td>\n      <td>0</td>\n      <td>0</td>\n      <td>0</td>\n      <td>0</td>\n      <td>0</td>\n      <td>0</td>\n      <td>0</td>\n      <td>0</td>\n    </tr>\n    <tr>\n      <th>2020-03-07</th>\n      <td>saturday</td>\n      <td>Poland</td>\n      <td>299</td>\n      <td>0</td>\n      <td>4</td>\n      <td>1</td>\n      <td>1</td>\n      <td>0</td>\n      <td>0</td>\n      <td>0</td>\n      <td>0</td>\n      <td>0</td>\n      <td>0</td>\n      <td>0</td>\n      <td>0</td>\n      <td>0</td>\n    </tr>\n    <tr>\n      <th>2020-03-08</th>\n      <td>sunday</td>\n      <td>Poland</td>\n      <td>230</td>\n      <td>6</td>\n      <td>0</td>\n      <td>4</td>\n      <td>1</td>\n      <td>1</td>\n      <td>0</td>\n      <td>0</td>\n      <td>0</td>\n      <td>0</td>\n      <td>0</td>\n      <td>0</td>\n      <td>0</td>\n      <td>0</td>\n    </tr>\n    <tr>\n      <th>...</th>\n      <td>...</td>\n      <td>...</td>\n      <td>...</td>\n      <td>...</td>\n      <td>...</td>\n      <td>...</td>\n      <td>...</td>\n      <td>...</td>\n      <td>...</td>\n      <td>...</td>\n      <td>...</td>\n      <td>...</td>\n      <td>...</td>\n      <td>...</td>\n      <td>...</td>\n      <td>...</td>\n    </tr>\n    <tr>\n      <th>2020-11-13</th>\n      <td>friday</td>\n      <td>Poland</td>\n      <td>56084</td>\n      <td>24051</td>\n      <td>22683</td>\n      <td>25221</td>\n      <td>25454</td>\n      <td>21713</td>\n      <td>24785</td>\n      <td>27875</td>\n      <td>27086</td>\n      <td>267580</td>\n      <td>9499</td>\n      <td>1</td>\n      <td>0</td>\n      <td>1</td>\n    </tr>\n    <tr>\n      <th>2020-11-14</th>\n      <td>saturday</td>\n      <td>Poland</td>\n      <td>46607</td>\n      <td>25571</td>\n      <td>24051</td>\n      <td>22683</td>\n      <td>25221</td>\n      <td>25454</td>\n      <td>21713</td>\n      <td>24785</td>\n      <td>27875</td>\n      <td>282215</td>\n      <td>10045</td>\n      <td>1</td>\n      <td>0</td>\n      <td>1</td>\n    </tr>\n    <tr>\n      <th>2020-11-15</th>\n      <td>sunday</td>\n      <td>Poland</td>\n      <td>35105</td>\n      <td>21854</td>\n      <td>25571</td>\n      <td>24051</td>\n      <td>22683</td>\n      <td>25221</td>\n      <td>25454</td>\n      <td>21713</td>\n      <td>24785</td>\n      <td>294783</td>\n      <td>10348</td>\n      <td>1</td>\n      <td>0</td>\n      <td>1</td>\n    </tr>\n    <tr>\n      <th>2020-11-16</th>\n      <td>monday</td>\n      <td>Poland</td>\n      <td>41983</td>\n      <td>20816</td>\n      <td>21854</td>\n      <td>25571</td>\n      <td>24051</td>\n      <td>22683</td>\n      <td>25221</td>\n      <td>25454</td>\n      <td>21713</td>\n      <td>306022</td>\n      <td>10491</td>\n      <td>1</td>\n      <td>0</td>\n      <td>1</td>\n    </tr>\n    <tr>\n      <th>2020-11-17</th>\n      <td>tuesday</td>\n      <td>Poland</td>\n      <td>55729</td>\n      <td>19152</td>\n      <td>20816</td>\n      <td>21854</td>\n      <td>25571</td>\n      <td>24051</td>\n      <td>22683</td>\n      <td>25221</td>\n      <td>25454</td>\n      <td>324282</td>\n      <td>10848</td>\n      <td>1</td>\n      <td>0</td>\n      <td>1</td>\n    </tr>\n  </tbody>\n</table>\n<p>259 rows × 16 columns</p>\n</div>"
     },
     "metadata": {},
     "execution_count": 2
    }
   ],
   "source": [
    "dataset = pd.read_csv(\"covid_dataset_preprocessed.csv\", sep=\";\")\n",
    "dataset = dataset.set_index(\"Date\")\n",
    "dataset"
   ]
  },
  {
   "cell_type": "code",
   "execution_count": 3,
   "metadata": {},
   "outputs": [],
   "source": [
    "# ,\"Confirmed2\",\"Confirmed3\",\"Confirmed4\",\"Confirmed5\",\"Confirmed6\",\"Confirmed7\",\"Tests\",\"Recovered\",\"Deaths\",\"SchoolsAreClose\",\"Lockdown\",\"MasksObligatory\""
   ]
  },
  {
   "source": [
    "## Selecting columns for model"
   ],
   "cell_type": "markdown",
   "metadata": {}
  },
  {
   "cell_type": "code",
   "execution_count": 4,
   "metadata": {},
   "outputs": [],
   "source": [
    "data = dataset[[\"Confirmed\",\"Confirmed1\"]].values"
   ]
  },
  {
   "source": [
    "## Spliting into test/train sets"
   ],
   "cell_type": "markdown",
   "metadata": {}
  },
  {
   "source": [
    "Normalizing data"
   ],
   "cell_type": "markdown",
   "metadata": {}
  },
  {
   "cell_type": "code",
   "execution_count": 5,
   "metadata": {},
   "outputs": [],
   "source": [
    "scaler = MinMaxScaler(feature_range=(0, 1))"
   ]
  },
  {
   "source": [
    "Spliting labals from atributes"
   ],
   "cell_type": "markdown",
   "metadata": {}
  },
  {
   "cell_type": "code",
   "execution_count": 6,
   "metadata": {},
   "outputs": [],
   "source": [
    "X = data[:, 1:]\n",
    "Y = data[:, :1]"
   ]
  },
  {
   "cell_type": "code",
   "execution_count": 7,
   "metadata": {},
   "outputs": [
    {
     "output_type": "stream",
     "name": "stdout",
     "text": [
      "Before normalization X[100:103]\n [[359]\n [376]\n [440]]\n\nAfter normalization Y[100:103]:\n [[0.01287892]\n [0.01348879]\n [0.01578475]]\n"
     ]
    }
   ],
   "source": [
    "print(\"Before normalization X[100:103]\\n\", X[100:103])\n",
    "X = scaler.fit_transform(X)\n",
    "print(\"\\nAfter normalization Y[100:103]:\\n\", X[100:103])"
   ]
  },
  {
   "cell_type": "code",
   "execution_count": 8,
   "metadata": {},
   "outputs": [
    {
     "output_type": "stream",
     "name": "stdout",
     "text": [
      "Before normalization Y[100:103]\n [[376]\n [440]\n [375]]\n\nAfter normalization Y[100:103]:\n [[0.01348879]\n [0.01578475]\n [0.01345291]]\n"
     ]
    }
   ],
   "source": [
    "print(\"Before normalization Y[100:103]\\n\", Y[100:103])\n",
    "Y = scaler.transform(Y)\n",
    "print(\"\\nAfter normalization Y[100:103]:\\n\", Y[100:103])"
   ]
  },
  {
   "cell_type": "code",
   "execution_count": null,
   "metadata": {},
   "outputs": [],
   "source": []
  },
  {
   "source": [
    "Reshaping sets into shape (samples, time steps, features)"
   ],
   "cell_type": "markdown",
   "metadata": {}
  },
  {
   "cell_type": "code",
   "execution_count": 9,
   "metadata": {},
   "outputs": [
    {
     "output_type": "execute_result",
     "data": {
      "text/plain": [
       "(259, 1, 1)"
      ]
     },
     "metadata": {},
     "execution_count": 9
    }
   ],
   "source": [
    "X = np.reshape(X, (X.shape[0], 1, X.shape[1]))\n",
    "X.shape"
   ]
  },
  {
   "cell_type": "code",
   "execution_count": 10,
   "metadata": {},
   "outputs": [
    {
     "output_type": "execute_result",
     "data": {
      "text/plain": [
       "(259, 1)"
      ]
     },
     "metadata": {},
     "execution_count": 10
    }
   ],
   "source": [
    "# Y = np.reshape(Y, (Y.shape[0], 1, Y.shape[1]))\n",
    "Y.shape"
   ]
  },
  {
   "source": [
    "Spliting"
   ],
   "cell_type": "markdown",
   "metadata": {}
  },
  {
   "cell_type": "code",
   "execution_count": 11,
   "metadata": {},
   "outputs": [],
   "source": [
    "test_size = int(len(X) * 0.1)\n",
    "x_train, x_test = X[:-test_size],X[-test_size:]\n",
    "y_train, y_test = Y[:-test_size],Y[-test_size:]"
   ]
  },
  {
   "cell_type": "code",
   "execution_count": 12,
   "metadata": {},
   "outputs": [
    {
     "output_type": "stream",
     "name": "stdout",
     "text": [
      "x_train.shape: (234, 1, 1)\nx_test.shape: (25, 1, 1)\n"
     ]
    }
   ],
   "source": [
    "print(\"x_train.shape: \"+str(x_train.shape))\n",
    "print(\"x_test.shape: \"+str(x_test.shape))"
   ]
  },
  {
   "cell_type": "code",
   "execution_count": 13,
   "metadata": {},
   "outputs": [
    {
     "output_type": "stream",
     "name": "stdout",
     "text": [
      "x_train[10:13]:\n [[[0.00068161]]\n\n [[0.00125561]]\n\n [[0.00057399]]]\n"
     ]
    }
   ],
   "source": [
    "print(\"x_train[10:13]:\\n\", x_train[10:13])"
   ]
  },
  {
   "source": [
    "## Creating model\n",
    "Creating sequential model"
   ],
   "cell_type": "markdown",
   "metadata": {}
  },
  {
   "cell_type": "code",
   "execution_count": 14,
   "metadata": {},
   "outputs": [],
   "source": [
    "model = Sequential()\n",
    "model.add(LSTM(7,return_sequences=True,input_shape=(1,x_train.shape[2])))\n",
    "model.add(Dropout(0.2))\n",
    "model.add(LSTM(7,return_sequences=True))\n",
    "model.add(Dropout(0.2))\n",
    "model.add(LSTM(7,return_sequences=True))\n",
    "model.add(Dropout(0.2))\n",
    "model.add(LSTM(7,return_sequences=False))\n",
    "model.add(Dense(1))\n"
   ]
  },
  {
   "cell_type": "code",
   "execution_count": 15,
   "metadata": {},
   "outputs": [
    {
     "output_type": "stream",
     "name": "stdout",
     "text": [
      "Model: \"sequential\"\n_________________________________________________________________\nLayer (type)                 Output Shape              Param #   \n=================================================================\nlstm (LSTM)                  (None, 1, 7)              252       \n_________________________________________________________________\ndropout (Dropout)            (None, 1, 7)              0         \n_________________________________________________________________\nlstm_1 (LSTM)                (None, 1, 7)              420       \n_________________________________________________________________\ndropout_1 (Dropout)          (None, 1, 7)              0         \n_________________________________________________________________\nlstm_2 (LSTM)                (None, 1, 7)              420       \n_________________________________________________________________\ndropout_2 (Dropout)          (None, 1, 7)              0         \n_________________________________________________________________\nlstm_3 (LSTM)                (None, 7)                 420       \n_________________________________________________________________\ndense (Dense)                (None, 1)                 8         \n=================================================================\nTotal params: 1,520\nTrainable params: 1,520\nNon-trainable params: 0\n_________________________________________________________________\n"
     ]
    }
   ],
   "source": [
    "model.summary()"
   ]
  },
  {
   "source": [
    "## Compiling and training model"
   ],
   "cell_type": "markdown",
   "metadata": {}
  },
  {
   "cell_type": "code",
   "execution_count": 16,
   "metadata": {},
   "outputs": [
    {
     "output_type": "stream",
     "name": "stdout",
     "text": [
      "Epoch 1/50\n",
      "234/234 - 1s - loss: 0.0052\n",
      "Epoch 2/50\n",
      "234/234 - 1s - loss: 0.0051\n",
      "Epoch 3/50\n",
      "234/234 - 1s - loss: 0.0051\n",
      "Epoch 4/50\n",
      "234/234 - 1s - loss: 0.0050\n",
      "Epoch 5/50\n",
      "234/234 - 1s - loss: 0.0045\n",
      "Epoch 6/50\n",
      "234/234 - 1s - loss: 0.0023\n",
      "Epoch 7/50\n",
      "234/234 - 1s - loss: 0.0015\n",
      "Epoch 8/50\n",
      "234/234 - 1s - loss: 5.6461e-04\n",
      "Epoch 9/50\n",
      "234/234 - 1s - loss: 7.4525e-04\n",
      "Epoch 10/50\n",
      "234/234 - 1s - loss: 6.3897e-04\n",
      "Epoch 11/50\n",
      "234/234 - 1s - loss: 0.0012\n",
      "Epoch 12/50\n",
      "234/234 - 1s - loss: 7.6618e-04\n",
      "Epoch 13/50\n",
      "234/234 - 1s - loss: 0.0011\n",
      "Epoch 14/50\n",
      "234/234 - 1s - loss: 5.6258e-04\n",
      "Epoch 15/50\n",
      "234/234 - 1s - loss: 8.5791e-04\n",
      "Epoch 16/50\n",
      "234/234 - 1s - loss: 7.4339e-04\n",
      "Epoch 17/50\n",
      "234/234 - 1s - loss: 4.6328e-04\n",
      "Epoch 18/50\n",
      "234/234 - 1s - loss: 7.9797e-04\n",
      "Epoch 19/50\n",
      "234/234 - 1s - loss: 9.0488e-04\n",
      "Epoch 20/50\n",
      "234/234 - 1s - loss: 8.4724e-04\n",
      "Epoch 21/50\n",
      "234/234 - 1s - loss: 9.0659e-04\n",
      "Epoch 22/50\n",
      "234/234 - 1s - loss: 0.0011\n",
      "Epoch 23/50\n",
      "234/234 - 1s - loss: 0.0012\n",
      "Epoch 24/50\n",
      "234/234 - 1s - loss: 6.7317e-04\n",
      "Epoch 25/50\n",
      "234/234 - 1s - loss: 8.2174e-04\n",
      "Epoch 26/50\n",
      "234/234 - 1s - loss: 4.7349e-04\n",
      "Epoch 27/50\n",
      "234/234 - 1s - loss: 9.5040e-04\n",
      "Epoch 28/50\n",
      "234/234 - 1s - loss: 9.1735e-04\n",
      "Epoch 29/50\n",
      "234/234 - 1s - loss: 4.8985e-04\n",
      "Epoch 30/50\n",
      "234/234 - 1s - loss: 9.1160e-04\n",
      "Epoch 31/50\n",
      "234/234 - 1s - loss: 7.1726e-04\n",
      "Epoch 32/50\n",
      "234/234 - 1s - loss: 4.9391e-04\n",
      "Epoch 33/50\n",
      "234/234 - 1s - loss: 6.8846e-04\n",
      "Epoch 34/50\n",
      "234/234 - 1s - loss: 4.2194e-04\n",
      "Epoch 35/50\n",
      "234/234 - 1s - loss: 4.5528e-04\n",
      "Epoch 36/50\n",
      "234/234 - 1s - loss: 6.0960e-04\n",
      "Epoch 37/50\n",
      "234/234 - 2s - loss: 4.6047e-04\n",
      "Epoch 38/50\n",
      "234/234 - 1s - loss: 6.8339e-04\n",
      "Epoch 39/50\n",
      "234/234 - 2s - loss: 6.0314e-04\n",
      "Epoch 40/50\n",
      "234/234 - 2s - loss: 4.7821e-04\n",
      "Epoch 41/50\n",
      "234/234 - 2s - loss: 8.4959e-04\n",
      "Epoch 42/50\n",
      "234/234 - 2s - loss: 4.2815e-04\n",
      "Epoch 43/50\n",
      "234/234 - 2s - loss: 6.2300e-04\n",
      "Epoch 44/50\n",
      "234/234 - 2s - loss: 6.2918e-04\n",
      "Epoch 45/50\n",
      "234/234 - 2s - loss: 8.4263e-04\n",
      "Epoch 46/50\n",
      "234/234 - 3s - loss: 3.1451e-04\n",
      "Epoch 47/50\n",
      "234/234 - 2s - loss: 7.5794e-04\n",
      "Epoch 48/50\n",
      "234/234 - 2s - loss: 5.1432e-04\n",
      "Epoch 49/50\n",
      "234/234 - 2s - loss: 6.4112e-04\n",
      "Epoch 50/50\n",
      "234/234 - 1s - loss: 4.6392e-04\n"
     ]
    },
    {
     "output_type": "execute_result",
     "data": {
      "text/plain": [
       "<tensorflow.python.keras.callbacks.History at 0x7fd887998640>"
      ]
     },
     "metadata": {},
     "execution_count": 16
    }
   ],
   "source": [
    "model.compile(loss='mean_squared_error',\n",
    "              optimizer='adam')\n",
    "model.fit(x_train, y_train, epochs=50, batch_size=1, verbose=2)"
   ]
  },
  {
   "source": [
    "## Scorings\n",
    "Making predictions and checking scoring achived by model"
   ],
   "cell_type": "markdown",
   "metadata": {}
  },
  {
   "cell_type": "code",
   "execution_count": 17,
   "metadata": {},
   "outputs": [],
   "source": [
    "# make predictions\n",
    "trainPredict = model.predict(x_train)\n",
    "testPredict = model.predict(x_test)\n"
   ]
  },
  {
   "cell_type": "code",
   "execution_count": 18,
   "metadata": {},
   "outputs": [],
   "source": [
    "# invert predictions\n",
    "\n",
    "trainPredict = scaler.inverse_transform(trainPredict)\n",
    "testPredict = scaler.inverse_transform(testPredict)\n",
    "\n"
   ]
  },
  {
   "cell_type": "code",
   "execution_count": 19,
   "metadata": {},
   "outputs": [],
   "source": [
    "# invert labels\n",
    "y_test = scaler.inverse_transform(y_test)\n",
    "y_train = scaler.inverse_transform(y_train)"
   ]
  },
  {
   "cell_type": "code",
   "execution_count": 20,
   "metadata": {},
   "outputs": [
    {
     "output_type": "stream",
     "name": "stdout",
     "text": [
      "Train Score: 362.60 RMSE\nTest Score: 8100.49 RMSE\n"
     ]
    }
   ],
   "source": [
    "# calculate root mean squared error\n",
    "trainScore = math.sqrt(mean_squared_error(y_train, trainPredict))\n",
    "print('Train Score: %.2f RMSE' % (trainScore))\n",
    "testScore = math.sqrt(mean_squared_error(y_test, testPredict))\n",
    "print('Test Score: %.2f RMSE' % (testScore))"
   ]
  },
  {
   "cell_type": "code",
   "execution_count": 21,
   "metadata": {},
   "outputs": [
    {
     "output_type": "execute_result",
     "data": {
      "text/plain": [
       "array([[13628.],\n",
       "       [11742.],\n",
       "       [10241.],\n",
       "       [16300.],\n",
       "       [18820.],\n",
       "       [20156.],\n",
       "       [21629.],\n",
       "       [21897.],\n",
       "       [17171.],\n",
       "       [15578.],\n",
       "       [19364.],\n",
       "       [24692.],\n",
       "       [27143.],\n",
       "       [27086.],\n",
       "       [27875.],\n",
       "       [24785.],\n",
       "       [21713.],\n",
       "       [25454.],\n",
       "       [25221.],\n",
       "       [22683.],\n",
       "       [24051.],\n",
       "       [25571.],\n",
       "       [21854.],\n",
       "       [20816.],\n",
       "       [19152.]])"
      ]
     },
     "metadata": {},
     "execution_count": 21
    }
   ],
   "source": [
    "y_test"
   ]
  },
  {
   "cell_type": "code",
   "execution_count": 22,
   "metadata": {},
   "outputs": [
    {
     "output_type": "execute_result",
     "data": {
      "text/plain": [
       "array([[12656.76 ],\n",
       "       [12655.249],\n",
       "       [11819.458],\n",
       "       [10949.2  ],\n",
       "       [13470.245],\n",
       "       [13969.822],\n",
       "       [14163.082],\n",
       "       [14334.559],\n",
       "       [14361.863],\n",
       "       [13666.63 ],\n",
       "       [13284.521],\n",
       "       [14053.455],\n",
       "       [14591.488],\n",
       "       [14731.722],\n",
       "       [14728.94 ],\n",
       "       [14765.706],\n",
       "       [14597.686],\n",
       "       [14343.236],\n",
       "       [14640.043],\n",
       "       [14625.723],\n",
       "       [14435.985],\n",
       "       [14546.547],\n",
       "       [14647.068],\n",
       "       [14357.556],\n",
       "       [14244.689]], dtype=float32)"
      ]
     },
     "metadata": {},
     "execution_count": 22
    }
   ],
   "source": [
    "testPredict"
   ]
  },
  {
   "cell_type": "code",
   "execution_count": null,
   "metadata": {},
   "outputs": [],
   "source": []
  }
 ]
}